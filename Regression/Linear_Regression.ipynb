{
  "cells": [
    {
      "attachments": {},
      "cell_type": "markdown",
      "metadata": {
        "id": "5nTkTJFdl35i"
      },
      "source": [
        "# **Import packages and dataset**"
      ]
    },
    {
      "cell_type": "code",
      "execution_count": null,
      "metadata": {
        "id": "iAP88B6nzrqc"
      },
      "outputs": [],
      "source": [
        "import numpy as np\n",
        "import pandas as pd\n",
        "import matplotlib.pyplot as plt\n",
        "import seaborn as sns\n",
        "%matplotlib inline"
      ]
    },
    {
      "cell_type": "code",
      "execution_count": null,
      "metadata": {
        "colab": {
          "base_uri": "https://localhost:8080/",
          "height": 206
        },
        "id": "OE-Yh9ZmmKH2",
        "outputId": "875f73f1-5942-4a78-83c1-2ad62202aab9"
      },
      "outputs": [],
      "source": [
        "df = pd.read_csv(\"winequality-red.csv\")\n",
        "df.head()"
      ]
    },
    {
      "attachments": {},
      "cell_type": "markdown",
      "metadata": {
        "id": "kB2FNTHlmVIX"
      },
      "source": [
        "# Check basic info on the data set"
      ]
    },
    {
      "attachments": {},
      "cell_type": "markdown",
      "metadata": {
        "id": "zvKP8zF3mXY2"
      },
      "source": [
        "**info()' method to check the data types and number**"
      ]
    },
    {
      "cell_type": "code",
      "execution_count": null,
      "metadata": {
        "colab": {
          "base_uri": "https://localhost:8080/"
        },
        "id": "VyNK5C-mmUuC",
        "outputId": "16b1d7d0-a1cf-4c2e-e646-2efcd2ebbd03"
      },
      "outputs": [],
      "source": [
        "df.info(verbose=True)"
      ]
    },
    {
      "attachments": {},
      "cell_type": "markdown",
      "metadata": {
        "id": "g1u24I3Bme6X"
      },
      "source": [
        "**'describe()' method to get the statistical summary of the various features of the data set**"
      ]
    },
    {
      "cell_type": "code",
      "execution_count": null,
      "metadata": {
        "colab": {
          "base_uri": "https://localhost:8080/",
          "height": 361
        },
        "id": "NnhHUpZvmm99",
        "outputId": "2a4cf283-1deb-4193-a712-e3e6e66f4967"
      },
      "outputs": [],
      "source": [
        "df.describe()"
      ]
    },
    {
      "attachments": {},
      "cell_type": "markdown",
      "metadata": {
        "id": "Mc1icxRbmsTk"
      },
      "source": [
        "**'columns' method to get the names of the columns (features)**"
      ]
    },
    {
      "cell_type": "code",
      "execution_count": null,
      "metadata": {
        "colab": {
          "base_uri": "https://localhost:8080/"
        },
        "id": "rQCl9S6vmtm9",
        "outputId": "7fb83f34-adae-4842-9e79-86f064a48661"
      },
      "outputs": [],
      "source": [
        "df.columns"
      ]
    },
    {
      "attachments": {},
      "cell_type": "markdown",
      "metadata": {
        "id": "HqNzTtz4m4wS"
      },
      "source": [
        "# **Test-train split**"
      ]
    },
    {
      "cell_type": "code",
      "execution_count": null,
      "metadata": {
        "id": "86WMEHz6pGew"
      },
      "outputs": [],
      "source": [
        "X = df.iloc[:, :-1]\n",
        "y = df.iloc[:, -1:]\n",
        "from sklearn.model_selection import train_test_split\n",
        "X_train, X_test, y_train, y_test = train_test_split(X, y, test_size=0.1, random_state=111)"
      ]
    },
    {
      "attachments": {},
      "cell_type": "markdown",
      "metadata": {
        "id": "ZrUc-xtSnHFo"
      },
      "source": [
        "**Check the size and shape of train/test splits**"
      ]
    },
    {
      "cell_type": "code",
      "execution_count": null,
      "metadata": {
        "colab": {
          "base_uri": "https://localhost:8080/"
        },
        "id": "VNMT5MZGnMhj",
        "outputId": "6a6049f1-ece5-4dd6-92b2-17e28a9a7330"
      },
      "outputs": [],
      "source": [
        "print(\"Training feature set size:\",X_train.shape)\n",
        "print(\"Test feature set size:\",X_test.shape)\n",
        "print(\"Training variable set size:\",y_train.shape)\n",
        "print(\"Test variable set size:\",y_test.shape)"
      ]
    },
    {
      "attachments": {},
      "cell_type": "markdown",
      "metadata": {
        "id": "TcMqc4sSnY3J"
      },
      "source": [
        "# **Model fit and training**"
      ]
    },
    {
      "attachments": {},
      "cell_type": "markdown",
      "metadata": {
        "id": "dGsdb7PLkI3o"
      },
      "source": [
        "###**Linar Regression**"
      ]
    },
    {
      "cell_type": "code",
      "execution_count": null,
      "metadata": {
        "id": "HMbqiUc22ubT"
      },
      "outputs": [],
      "source": [
        "from sklearn.linear_model import LinearRegression\n",
        "from sklearn import metrics"
      ]
    },
    {
      "cell_type": "code",
      "execution_count": null,
      "metadata": {
        "colab": {
          "base_uri": "https://localhost:8080/",
          "height": 74
        },
        "id": "8LUt72Rbngd8",
        "outputId": "03a7b670-bcef-49d2-9f68-5d075dc81955"
      },
      "outputs": [],
      "source": [
        "lr = LinearRegression() # Creating a Linear Regression object 'lr'\n",
        "lr.fit(X_train,y_train) # Fit the linear model on to the 'lr' object itself i.e. no need to set this to another variable"
      ]
    },
    {
      "attachments": {},
      "cell_type": "markdown",
      "metadata": {
        "id": "WehqwB9FnzPH"
      },
      "source": [
        "**Regression evaluation metrices**"
      ]
    },
    {
      "cell_type": "code",
      "execution_count": null,
      "metadata": {
        "id": "2vkq38bDn39a"
      },
      "outputs": [],
      "source": [
        "predictions = lr.predict(X_test)"
      ]
    },
    {
      "cell_type": "code",
      "execution_count": null,
      "metadata": {
        "colab": {
          "base_uri": "https://localhost:8080/"
        },
        "id": "6B6o7F4un8gP",
        "outputId": "454c9fa5-e08c-409d-8201-771ca8ab9a33"
      },
      "outputs": [],
      "source": [
        "print(\"Mean absolute error (MAE):\", metrics.mean_absolute_error(y_test,predictions))\n",
        "print(\"Mean square error (MSE):\", metrics.mean_squared_error(y_test,predictions))\n",
        "print(\"Root mean square error (RMSE):\", np.sqrt(metrics.mean_squared_error(y_test,predictions)))"
      ]
    },
    {
      "attachments": {},
      "cell_type": "markdown",
      "metadata": {
        "id": "Ud6_3Ij1oeDO"
      },
      "source": [
        "**R-square value**"
      ]
    },
    {
      "cell_type": "code",
      "execution_count": null,
      "metadata": {
        "colab": {
          "base_uri": "https://localhost:8080/"
        },
        "id": "wZL9YW7Nobsz",
        "outputId": "45cb2ad5-859b-41e1-94ed-226e436c4495"
      },
      "outputs": [],
      "source": [
        "print(\"R-squared value of predictions:\",round(metrics.r2_score(y_test,predictions),3))"
      ]
    }
  ],
  "metadata": {
    "colab": {
      "provenance": []
    },
    "kernelspec": {
      "display_name": "Python 3",
      "name": "python3"
    },
    "language_info": {
      "name": "python"
    }
  },
  "nbformat": 4,
  "nbformat_minor": 0
}

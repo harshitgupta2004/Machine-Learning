{
  "cells": [
    {
      "cell_type": "markdown",
      "metadata": {
        "id": "j4GEOI9ckiAn"
      },
      "source": [
        "# **Import Libraries and data set**"
      ]
    },
    {
      "cell_type": "code",
      "execution_count": null,
      "metadata": {
        "id": "NrKTaVGnRZQB"
      },
      "outputs": [],
      "source": [
        "import pandas as pd\n",
        "import numpy as np\n",
        "import matplotlib.pyplot as plt\n",
        "import seaborn as sns\n",
        "%matplotlib inline"
      ]
    },
    {
      "cell_type": "code",
      "execution_count": null,
      "metadata": {
        "id": "iDK4dHDERZ7l"
      },
      "outputs": [],
      "source": [
        "df = pd.read_csv('loan_data.csv')"
      ]
    },
    {
      "cell_type": "markdown",
      "metadata": {
        "id": "Srxppw0WRewG"
      },
      "source": [
        "**Check out the info(), head(), and describe() methods on loans**"
      ]
    },
    {
      "cell_type": "code",
      "execution_count": null,
      "metadata": {
        "colab": {
          "base_uri": "https://localhost:8080/"
        },
        "id": "4iqM5k2ZRi_U",
        "outputId": "2b766165-28f3-4aba-cca9-2947813bd48d"
      },
      "outputs": [],
      "source": [
        "df.info()"
      ]
    },
    {
      "cell_type": "code",
      "execution_count": null,
      "metadata": {
        "colab": {
          "base_uri": "https://localhost:8080/",
          "height": 364
        },
        "id": "6F-JSw8sRmKi",
        "outputId": "af38f405-3004-4056-c716-f12b6f5f3d14"
      },
      "outputs": [],
      "source": [
        "df.describe()"
      ]
    },
    {
      "cell_type": "code",
      "execution_count": null,
      "metadata": {
        "colab": {
          "base_uri": "https://localhost:8080/",
          "height": 270
        },
        "id": "Wi1DzHXqRm1a",
        "outputId": "52c00960-345c-4167-ba01-f1c9e469cccb"
      },
      "outputs": [],
      "source": [
        "df.head()"
      ]
    },
    {
      "cell_type": "markdown",
      "metadata": {
        "id": "Uj8kxOY8R0t9"
      },
      "source": [
        "# **Setting up the Data**"
      ]
    },
    {
      "cell_type": "markdown",
      "metadata": {
        "id": "7rYcc5pmR41k"
      },
      "source": [
        "The purpose column as categorical. We transform them using dummy variables so sklearn will be able to understand them."
      ]
    },
    {
      "cell_type": "code",
      "execution_count": null,
      "metadata": {
        "colab": {
          "base_uri": "https://localhost:8080/",
          "height": 270
        },
        "id": "nqSzigJNR0bl",
        "outputId": "43db6a08-372f-4299-b9fa-f34658d97470"
      },
      "outputs": [],
      "source": [
        "df_final = pd.get_dummies(df,['purpose'],drop_first=True)\n",
        "df_final.head()"
      ]
    },
    {
      "cell_type": "markdown",
      "metadata": {
        "id": "px_IeuZXR_N2"
      },
      "source": [
        "# **Train Test Split**"
      ]
    },
    {
      "cell_type": "code",
      "execution_count": null,
      "metadata": {
        "id": "cYnyvpBNSHea"
      },
      "outputs": [],
      "source": [
        "from sklearn.model_selection import train_test_split\n",
        "X = df_final.drop('not.fully.paid',axis=1)\n",
        "y = df_final['not.fully.paid']\n",
        "X_train, X_test, y_train, y_test = train_test_split(X, y, test_size=0.30)"
      ]
    },
    {
      "cell_type": "code",
      "execution_count": null,
      "metadata": {
        "colab": {
          "base_uri": "https://localhost:8080/"
        },
        "id": "bO84LGArs_JV",
        "outputId": "8e50740c-311f-4c05-dc26-de009cd51c68"
      },
      "outputs": [],
      "source": [
        "from sklearn.tree import DecisionTreeClassifier\n",
        "decision_tree = DecisionTreeClassifier()\n",
        "decision_tree.fit(X_train, y_train)\n",
        "\n",
        "acc_decision_tree = round(decision_tree.score(X_test, y_test) * 100, 2)\n",
        "acc_decision_tree"
      ]
    },
    {
      "cell_type": "code",
      "execution_count": null,
      "metadata": {
        "colab": {
          "base_uri": "https://localhost:8080/"
        },
        "id": "_2_N88cTSsZq",
        "outputId": "eaf207fc-8880-4ef7-e167-4e44752ea72b"
      },
      "outputs": [],
      "source": [
        "from sklearn.metrics import classification_report,confusion_matrix\n",
        "predictions = decision_tree.predict(X_test)\n",
        "print(classification_report(y_test,predictions))"
      ]
    },
    {
      "cell_type": "code",
      "execution_count": null,
      "metadata": {
        "colab": {
          "base_uri": "https://localhost:8080/"
        },
        "id": "ME4JQvSpS1C0",
        "outputId": "1a8495b0-8ca2-42a6-c28e-631ff0cd96ab"
      },
      "outputs": [],
      "source": [
        "cm=confusion_matrix(y_test,predictions)\n",
        "print(cm)\n",
        "print (\"Accuracy of prediction:\",round((cm[0,0]+cm[1,1])/cm.sum(),3))"
      ]
    }
  ],
  "metadata": {
    "colab": {
      "provenance": []
    },
    "kernelspec": {
      "display_name": "Python 3",
      "name": "python3"
    },
    "language_info": {
      "name": "python"
    }
  },
  "nbformat": 4,
  "nbformat_minor": 0
}

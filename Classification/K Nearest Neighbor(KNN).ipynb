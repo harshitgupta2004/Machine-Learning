{
  "cells": [
    {
      "cell_type": "markdown",
      "metadata": {
        "id": "bENYQRKHkpTM"
      },
      "source": [
        "# **Import packages and data set**"
      ]
    },
    {
      "cell_type": "code",
      "execution_count": null,
      "metadata": {
        "colab": {
          "base_uri": "https://localhost:8080/",
          "height": 267
        },
        "id": "CI46oj-hT77G",
        "outputId": "8e6796e4-e4f9-4488-ccc0-c3b12fc303a2"
      },
      "outputs": [],
      "source": [
        "import pandas as pd\n",
        "import seaborn as sns\n",
        "import matplotlib.pyplot as plt\n",
        "import numpy as np\n",
        "%matplotlib inline\n",
        "\n",
        "df = pd.read_csv('winequality-red.csv')\n",
        "df.head()"
      ]
    },
    {
      "cell_type": "markdown",
      "metadata": {
        "id": "ygX5Ca-xUM5P"
      },
      "source": [
        "# **Data Preprocessing**"
      ]
    },
    {
      "cell_type": "markdown",
      "metadata": {
        "id": "fd2xMmGyUOs_"
      },
      "source": [
        "**Remove Dulpicates**"
      ]
    },
    {
      "cell_type": "code",
      "execution_count": null,
      "metadata": {
        "id": "yWHnKqPXUdEl"
      },
      "outputs": [],
      "source": [
        "df.drop_duplicates(inplace=True)"
      ]
    },
    {
      "cell_type": "markdown",
      "metadata": {
        "id": "wk9DCRLGUSHq"
      },
      "source": [
        "**Finding null values**"
      ]
    },
    {
      "cell_type": "code",
      "execution_count": null,
      "metadata": {
        "colab": {
          "base_uri": "https://localhost:8080/"
        },
        "id": "typ1TFNqUfNP",
        "outputId": "86506d01-5f07-4c4b-d1d0-e1508434917e"
      },
      "outputs": [],
      "source": [
        "df.isna().sum()"
      ]
    },
    {
      "cell_type": "markdown",
      "metadata": {
        "id": "W6VBDvAkUY5O"
      },
      "source": [
        "**Finding Co-relation between data features attributes**"
      ]
    },
    {
      "cell_type": "code",
      "execution_count": null,
      "metadata": {
        "id": "0SkvLbnuUiRU"
      },
      "outputs": [],
      "source": [
        "Corr=df.corr()\n",
        "Corr_res=[]\n",
        "for i in range(0,len(df.dtypes)):\n",
        "  for j in range(0,len(df.dtypes)):\n",
        "    value=Corr.iloc[i:i+1,j:j+1].values\n",
        "    if value>0.8 and value!=1 :\n",
        "     Corr_res.append(Corr.columns[i])"
      ]
    },
    {
      "cell_type": "markdown",
      "metadata": {
        "id": "xZCe0nXHUjN3"
      },
      "source": [
        "# **Train Test Split**"
      ]
    },
    {
      "cell_type": "code",
      "execution_count": null,
      "metadata": {
        "id": "cZMN9ry_UrPX"
      },
      "outputs": [],
      "source": [
        "from sklearn.model_selection import train_test_split\n",
        "X = df.iloc[:, :-1]\n",
        "y = df.iloc[:, -1:]\n",
        "X_train, X_test, y_train, y_test = train_test_split(X,y,test_size = 0.3, random_state = 123)"
      ]
    },
    {
      "cell_type": "code",
      "execution_count": null,
      "metadata": {
        "colab": {
          "base_uri": "https://localhost:8080/",
          "height": 130
        },
        "id": "PYuWRpE0WCsp",
        "outputId": "4daf75c5-acda-4503-da36-b305cf61f579"
      },
      "outputs": [],
      "source": [
        "classifier2 = KNeighborsClassifier(n_neighbors= 21, metric = 'manhattan', p = 2,weights='uniform')\n",
        "classifier2.fit(X_train,y_train)"
      ]
    },
    {
      "cell_type": "code",
      "execution_count": null,
      "metadata": {
        "id": "zTmA1kAzWFbI"
      },
      "outputs": [],
      "source": [
        "#Predicting the ouput from input data (x_train) and (y_train) \n",
        "y_pred1 = classifier2.predict(X_train)\n",
        "y_pred2 = classifier2.predict(X_test)"
      ]
    },
    {
      "cell_type": "code",
      "execution_count": null,
      "metadata": {
        "colab": {
          "base_uri": "https://localhost:8080/"
        },
        "id": "632MBnI2uhLE",
        "outputId": "bcc2a900-ac41-484d-bdd7-b2212aa916b1"
      },
      "outputs": [],
      "source": [
        "from sklearn.neighbors import KNeighborsClassifier\n",
        "from sklearn.metrics import accuracy_score\n",
        "\n",
        "print(\"Accuracy score of train data set:\",accuracy_score(y_train, y_pred1))\n",
        "print(\"Accuracy score of test data set:\",accuracy_score(y_test, y_pred2))\n",
        "\n",
        "knn = KNeighborsClassifier(n_neighbors = 3)\n",
        "knn.fit(X_train, y_train)\n",
        "\n",
        "acc_knn = round(knn.score(X_test, y_test) * 100, 2)\n",
        "acc_knn"
      ]
    }
  ],
  "metadata": {
    "colab": {
      "provenance": []
    },
    "kernelspec": {
      "display_name": "Python 3",
      "name": "python3"
    },
    "language_info": {
      "name": "python"
    }
  },
  "nbformat": 4,
  "nbformat_minor": 0
}

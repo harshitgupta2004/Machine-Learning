{
  "cells": [
    {
      "cell_type": "markdown",
      "metadata": {
        "id": "_exj6T7Qka95"
      },
      "source": [
        "# Import packages and dataset"
      ]
    },
    {
      "cell_type": "code",
      "execution_count": null,
      "metadata": {
        "colab": {
          "base_uri": "https://localhost:8080/",
          "height": 206
        },
        "id": "2aSQTuQGLbkn",
        "outputId": "02b4b0a1-f899-493e-9fbf-34e922f99cd3"
      },
      "outputs": [],
      "source": [
        "import pandas as pd\n",
        "import numpy as np\n",
        "import matplotlib.pyplot as plt\n",
        "import seaborn as sns\n",
        "%matplotlib inline\n",
        "\n",
        "train = pd.read_csv('titanic_train.csv')\n",
        "train.head()"
      ]
    },
    {
      "cell_type": "markdown",
      "metadata": {
        "id": "X2cUo6siLmc3"
      },
      "source": [
        "Check basic info about the data set"
      ]
    },
    {
      "cell_type": "code",
      "execution_count": null,
      "metadata": {
        "colab": {
          "base_uri": "https://localhost:8080/"
        },
        "id": "l7B6yfpuLsVR",
        "outputId": "0eec614c-3810-49b5-a9a3-e379ce457963"
      },
      "outputs": [],
      "source": [
        "train.info()"
      ]
    },
    {
      "cell_type": "code",
      "execution_count": null,
      "metadata": {
        "colab": {
          "base_uri": "https://localhost:8080/",
          "height": 300
        },
        "id": "3JuNY6w0Luni",
        "outputId": "17436bf5-c35d-48dc-c9ca-89e52afb8147"
      },
      "outputs": [],
      "source": [
        "train.describe()"
      ]
    },
    {
      "cell_type": "markdown",
      "metadata": {
        "id": "cMN9NLPxL-pH"
      },
      "source": [
        "# Data wrangling (impute and drop)"
      ]
    },
    {
      "cell_type": "markdown",
      "metadata": {
        "id": "70RI8F_oMFcg"
      },
      "source": [
        "**Define a function to impute (fill-up missing values) age feature**"
      ]
    },
    {
      "cell_type": "code",
      "execution_count": null,
      "metadata": {
        "id": "TNWwD59yMGoL"
      },
      "outputs": [],
      "source": [
        "f_class_Age=train.groupby('Pclass')['Age'].mean()\n",
        "f_class_Age = pd.DataFrame(f_class_Age)\n",
        "\n",
        "a=list(f_class_Age['Age'])\n",
        "\n",
        "def impute_age(cols):\n",
        "    Age = cols[0]\n",
        "    Pclass = cols[1]\n",
        "    \n",
        "    if pd.isnull(Age):\n",
        "\n",
        "        if Pclass == 1:\n",
        "            return a[0]\n",
        "\n",
        "        elif Pclass == 2:\n",
        "            return a[1]\n",
        "\n",
        "        else:\n",
        "            return a[2]\n",
        "\n",
        "    else:\n",
        "        return Age"
      ]
    },
    {
      "cell_type": "markdown",
      "metadata": {
        "id": "B_BhBiBgMK6R"
      },
      "source": [
        "**Drop the 'Cabin' feature and any other null value**"
      ]
    },
    {
      "cell_type": "code",
      "execution_count": null,
      "metadata": {
        "colab": {
          "base_uri": "https://localhost:8080/",
          "height": 206
        },
        "id": "gpII5hfJMQuA",
        "outputId": "c6f70d4f-bea0-4163-8fbe-3683fd980b7e"
      },
      "outputs": [],
      "source": [
        "train.drop('Cabin',axis=1,inplace=True)\n",
        "train.dropna(inplace=True)\n",
        "train.head()"
      ]
    },
    {
      "cell_type": "markdown",
      "metadata": {
        "id": "sIknFYrXMSy6"
      },
      "source": [
        "**Drop other unnecessary features like 'PassengerId', 'Name', 'Ticket'**"
      ]
    },
    {
      "cell_type": "code",
      "execution_count": null,
      "metadata": {
        "colab": {
          "base_uri": "https://localhost:8080/",
          "height": 206
        },
        "id": "StPxH6eSMWt9",
        "outputId": "6abac387-9676-4af4-ff67-311522fd77d3"
      },
      "outputs": [],
      "source": [
        "train.drop(['PassengerId','Name','Ticket'],axis=1,inplace=True)\n",
        "train.head()"
      ]
    },
    {
      "cell_type": "markdown",
      "metadata": {
        "id": "4w0fHnp7PsRW"
      },
      "source": [
        "# Convert categorial feature like 'Sex' and 'Embarked' to dummy variables"
      ]
    },
    {
      "cell_type": "code",
      "execution_count": null,
      "metadata": {
        "id": "Q9050AqjPw-i"
      },
      "outputs": [],
      "source": [
        "sex = pd.get_dummies(train['Sex'],drop_first=True)\n",
        "embark = pd.get_dummies(train['Embarked'],drop_first=True)"
      ]
    },
    {
      "cell_type": "markdown",
      "metadata": {
        "id": "567NY40JPyZB"
      },
      "source": [
        "**Now drop the 'Sex' and 'Embarked' columns and concatenate the new dummy variables**"
      ]
    },
    {
      "cell_type": "code",
      "execution_count": null,
      "metadata": {
        "colab": {
          "base_uri": "https://localhost:8080/",
          "height": 206
        },
        "id": "Dwa8YSHKP11V",
        "outputId": "73f319ae-6355-4c10-e7a1-53bc34582449"
      },
      "outputs": [],
      "source": [
        "train.drop(['Sex','Embarked'],axis=1,inplace=True)\n",
        "train = pd.concat([train,sex,embark],axis=1)\n",
        "train.head()"
      ]
    },
    {
      "cell_type": "markdown",
      "metadata": {
        "id": "0jsnc9xRMY0U"
      },
      "source": [
        "# Logistic Regression model fit and prediction"
      ]
    },
    {
      "cell_type": "code",
      "execution_count": null,
      "metadata": {
        "id": "uD0LyO1C3qEs"
      },
      "outputs": [],
      "source": [
        "from sklearn.model_selection import train_test_split\n",
        "X_train, X_test, y_train, y_test = train_test_split(train.drop('Survived',axis=1), \n",
        "                                                    train['Survived'], test_size=0.30, \n",
        "                                                    random_state=111)"
      ]
    },
    {
      "cell_type": "code",
      "execution_count": null,
      "metadata": {
        "colab": {
          "base_uri": "https://localhost:8080/"
        },
        "id": "u1M3ryvxMnPZ",
        "outputId": "98bfba5b-dba7-4289-868f-11f90c341e7c"
      },
      "outputs": [],
      "source": [
        "from sklearn.linear_model import LogisticRegression\n",
        "from sklearn.metrics import accuracy_score\n",
        "from sklearn.metrics import confusion_matrix, precision_recall_curve, roc_curve, auc, log_loss\n",
        "\n",
        "logreg = LogisticRegression()\n",
        "logreg.fit(X_train, y_train)\n",
        "y_pred = logreg.predict(X_test)\n",
        "y_pred_proba = logreg.predict_proba(X_test)[:, 1]\n",
        "[fpr, tpr, thr] = roc_curve(y_test, y_pred_proba)\n",
        "\n",
        "print(logreg.__class__.__name__+\" accuracy is %2.3f\" % accuracy_score(y_test, y_pred))\n",
        "print(logreg.__class__.__name__+\" log_loss is %2.3f\" % log_loss(y_test, y_pred_proba))\n",
        "print(logreg.__class__.__name__+\" auc is %2.3f\" % auc(fpr, tpr))"
      ]
    }
  ],
  "metadata": {
    "colab": {
      "provenance": []
    },
    "kernelspec": {
      "display_name": "Python 3",
      "name": "python3"
    },
    "language_info": {
      "name": "python"
    }
  },
  "nbformat": 4,
  "nbformat_minor": 0
}
